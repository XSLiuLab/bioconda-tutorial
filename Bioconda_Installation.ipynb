{
 "cells": [
  {
   "cell_type": "markdown",
   "metadata": {
    "slideshow": {
     "slide_type": "slide"
    }
   },
   "source": [
    "<center>\n",
    "<h1>使用Bioconda辅助生物信息学软件安装</h1>\n",
    "<br/>\n",
    "<img src=\"bioconda.png\">\n",
    "<p>\n",
    "<em>2018-01-30</em>\n",
    "<br/>\n",
    "</p>\n",
    "<p>\n",
    "<em>Andrew Perry, <br/>Monash Bioinformatics Platform</em>\n",
    "</p>\n",
    "<p>\n",
    "<em>王诗翔（译）, <br/>上海科技大学</em>\n",
    "</p>\n",
    "</center>\n",
    "\n",
    "依照：<https://github.com/XSLiuLab/bioconda-tutorial/blob/master/Bioconda_Installation.ipynb>"
   ]
  },
  {
   "cell_type": "markdown",
   "metadata": {
    "slideshow": {
     "slide_type": "slide"
    }
   },
   "source": [
    "否认声明：当我在谈论这件事的时候，我不会假装自己是一个Conda或Bioconda的专家。\n",
    "\n",
    "这是我基于Simon Gladman, Saskia Hiltemann and Eric Rasche提供的一个工作坊[\"Packaging your bioinformatics tool with Bioconda and Galaxy\"](https://www.melbournebioinformatics.org.au/projects-blog/bioconda/)进行的。"
   ]
  },
  {
   "cell_type": "markdown",
   "metadata": {
    "slideshow": {
     "slide_type": "slide"
    }
   },
   "source": [
    "# 为什么使用Conda？\n",
    "\n",
    "* 管理独立的_环境_，包括依赖。不需要`sudo`。\n",
    "* 大型组织为`channels`的预编译的生态系统（如conda-forge、bioconda）\n",
    "* 语言不限（不仅仅是Python！）\n",
    "* 用不同的系统创建一个新的包都非常简单直接（一个食谱recipe包含一个短的[build.sh](https://github.com/pansapiens/bioconda-recipes/blob/master/recipes/seqtk/build.sh) 和 [meta.yml](https://github.com/pansapiens/bioconda-recipes/blob/master/recipes/seqtk/meta.yaml)）。\n",
    "* 整合了Python的`virtualenv`和`pip`。\n",
    "* 以Continuum Analytics公司为背景的开源工具（BSD）。一些默认channel中的包不是开源的。\n"
   ]
  },
  {
   "cell_type": "markdown",
   "metadata": {
    "slideshow": {
     "slide_type": "slide"
    }
   },
   "source": [
    "# (*@ο@*) 哇～ 'environment'\n",
    "\n",
    "Conda开源设置一些UNIX shell环境变量，主要是`PATH`，它决定了当你键入它程序名字时运行的程序版本。 \n",
    "\n",
    "键入：\n",
    "\n",
    "```bash\n",
    "env\n",
    "```\n",
    "\n",
    "你将看到你的环境变量。\n",
    "\n",
    "<img src=\"captainplanet.jpg\">"
   ]
  },
  {
   "cell_type": "markdown",
   "metadata": {
    "slideshow": {
     "slide_type": "slide"
    }
   },
   "source": [
    "# 为什么使用Bioconda？\n",
    "\n",
    "* 大型可获取生信软件生态系统，约250位贡献者。\n",
    "  - !!!--> http://bioconda.github.io/recipes.html <---!!!\n",
    "\n",
    "* Conda环境促进可重复性 - 一个`environment.yml`文件可以记录工具版本（+构建号），它可以在其他地方稳定地重装。 \n",
    "\n",
    "* 它是支持_Galaxy_工具安装方法，已经存在的包会进行维护并有新的软件加入。\n",
    "\n",
    "* 质量控制 - 很好的文档指南（<http://bioconda.github.io/guidelines.html>），自动化测试、包构建（TravisCI / CircleCI）以及核心团队的合并审查。\n",
    "  - 有趣的事实： Bioconda食谱不盲目地信任工具上的版本号，它们使用源包的md5和sha256检验和。\n",
    "\n",
    "* Docker容器支持（Biocontainers项目）。\n",
    "\n",
    "可以在[这个博客](http://blogs.nature.com/naturejobs/2017/11/03/techblog-bioconda-promises-to-ease-bioinformatics-software-installation-woes/)和[bioArxiv](https://www.biorxiv.org/content/early/2017/10/27/207092)看到更多卖点。"
   ]
  },
  {
   "cell_type": "markdown",
   "metadata": {
    "slideshow": {
     "slide_type": "slide"
    }
   },
   "source": [
    "# 让我们从Bioconda安装Minicaonda和一些工具\n",
    "\n",
    "Miniconda在你的家目录下和自己的Conda环境中安装`conda`包管理器（Miniconda是'Anaconda'的迷你版本）。\n",
    "\n",
    "Miniconda可以通过以下链接查阅：\n",
    "https://conda.io/miniconda.html"
   ]
  },
  {
   "cell_type": "code",
   "execution_count": 1,
   "metadata": {
    "slideshow": {
     "slide_type": "subslide"
    }
   },
   "outputs": [
    {
     "name": "stdout",
     "output_type": "stream",
     "text": [
      "  % Total    % Received % Xferd  Average Speed   Time    Time     Time  Current\n",
      "                                 Dload  Upload   Total   Spent    Left  Speed\n",
      "100 34.3M  100 34.3M    0     0  15.1M      0  0:00:02  0:00:02 --:--:-- 15.1M\n"
     ]
    }
   ],
   "source": [
    "# 下载Minoconda\n",
    "\n",
    "cd ~\n",
    "# macOS系统\n",
    "curl -O https://repo.continuum.io/miniconda/Miniconda3-latest-MacOSX-x86_64.sh\n",
    "\n",
    "# 或者在Linux系统上\n",
    "# curl -O https://repo.continuum.io/miniconda/Miniconda3-latest-Linux-x86_64.sh"
   ]
  },
  {
   "cell_type": "code",
   "execution_count": 2,
   "metadata": {
    "scrolled": false,
    "slideshow": {
     "slide_type": "subslide"
    }
   },
   "outputs": [
    {
     "name": "stdout",
     "output_type": "stream",
     "text": [
      "\n",
      "usage: ./Miniconda3-latest-MacOSX-x86_64.sh [options]\n",
      "\n",
      "Installs Miniconda3 4.3.31\n",
      "\n",
      "-b           run install in batch mode (without manual intervention),\n",
      "             it is expected the license terms are agreed upon\n",
      "-f           no error if install prefix already exists\n",
      "-h           print this help message and exit\n",
      "-p PREFIX    install prefix, defaults to /Users/perry/miniconda3, must not contain spaces.\n",
      "-s           skip running pre/post-link/install scripts\n",
      "-u           update an existing installation\n",
      "-t           run package tests after installation (may install conda-build)\n",
      "\n"
     ]
    },
    {
     "ename": "",
     "evalue": "2",
     "execution_count": 2,
     "output_type": "error",
     "traceback": []
    }
   ],
   "source": [
    "# 查看安装帮助\n",
    "sh ./Miniconda3-latest-MacOSX-x86_64.sh --help"
   ]
  },
  {
   "cell_type": "code",
   "execution_count": 3,
   "metadata": {
    "slideshow": {
     "slide_type": "subslide"
    }
   },
   "outputs": [
    {
     "name": "stdout",
     "output_type": "stream",
     "text": [
      "\n",
      "Welcome to Miniconda3 4.3.31\n",
      "\n",
      "In order to continue the installation process, please review the license\n",
      "agreement.\n",
      "Please, press ENTER to continue\n",
      ">>> \n"
     ]
    }
   ],
   "source": [
    "# 开始安装\n",
    "sh ./Miniconda3-latest-MacOSX-x86_64.sh\n",
    "# sh ./Miniconda3-latest-MacOSX-x86_64.sh -b"
   ]
  },
  {
   "cell_type": "markdown",
   "metadata": {},
   "source": [
    "查看许可证（一直按 ENTER 键）然后键入'yes'。\n",
    "\n",
    "安装器会将下面一行加入`~/.bash_profile` （`-s`选项可以禁止，Linux系统一般是加入`~/.bashrc`）。"
   ]
  },
  {
   "cell_type": "code",
   "execution_count": 7,
   "metadata": {},
   "outputs": [],
   "source": [
    "export PATH=\"$HOME/miniconda3/bin:$PATH\""
   ]
  },
  {
   "cell_type": "code",
   "execution_count": 8,
   "metadata": {
    "slideshow": {
     "slide_type": "subslide"
    }
   },
   "outputs": [
    {
     "name": "stdout",
     "output_type": "stream",
     "text": [
      "usage: conda [-h] [-V] command ...\n",
      "\n",
      "conda is a tool for managing and deploying applications, environments and packages.\n",
      "\n",
      "Options:\n",
      "\n",
      "positional arguments:\n",
      "  command\n",
      "    info         Display information about current conda install.\n",
      "    help         Displays a list of available conda commands and their help\n",
      "                 strings.\n",
      "    list         List linked packages in a conda environment.\n",
      "    search       Search for packages and display their information. The input\n",
      "                 is a Python regular expression. To perform a search with a\n",
      "                 search string that starts with a -, separate the search from\n",
      "                 the options with --, like 'conda search -- -h'. A * in the\n",
      "                 results means that package is installed in the current\n",
      "                 environment. A . means that package is not installed but is\n",
      "                 cached in the pkgs directory.\n",
      "    create       Create a new conda environment from a list of specified\n",
      "                 packages.\n",
      "    install      Installs a list of packages into a specified conda\n",
      "                 environment.\n",
      "    update       Updates conda packages to the latest compatible version. This\n",
      "                 command accepts a list of package names and updates them to\n",
      "                 the latest versions that are compatible with all other\n",
      "                 packages in the environment. Conda attempts to install the\n",
      "                 newest versions of the requested packages. To accomplish\n",
      "                 this, it may update some packages that are already installed,\n",
      "                 or install additional packages. To prevent existing packages\n",
      "                 from updating, use the --no-update-deps option. This may\n",
      "                 force conda to install older versions of the requested\n",
      "                 packages, and it does not prevent additional dependency\n",
      "                 packages from being installed. If you wish to skip dependency\n",
      "                 checking altogether, use the '--force' option. This may\n",
      "                 result in an environment with incompatible packages, so this\n",
      "                 option must be used with great caution.\n",
      "    upgrade      Alias for conda update. See conda update --help.\n",
      "    remove       Remove a list of packages from a specified conda environment.\n",
      "    uninstall    Alias for conda remove. See conda remove --help.\n",
      "    config       Modify configuration values in .condarc. This is modeled\n",
      "                 after the git config command. Writes to the user .condarc\n",
      "                 file (/Users/perry/.condarc) by default.\n",
      "    clean        Remove unused packages and caches.\n",
      "    package      Low-level conda package utility. (EXPERIMENTAL)\n",
      "\n",
      "optional arguments:\n",
      "  -h, --help     Show this help message and exit.\n",
      "  -V, --version  Show the conda version number and exit.\n",
      "\n",
      "other commands, such as \"conda build\", are available when additional conda\n",
      "packages (e.g. conda-build) are installed\n",
      "\n"
     ]
    }
   ],
   "source": [
    "# 查看conda使用说明\n",
    "conda --help"
   ]
  },
  {
   "cell_type": "code",
   "execution_count": 9,
   "metadata": {
    "slideshow": {
     "slide_type": "subslide"
    }
   },
   "outputs": [
    {
     "name": "stdout",
     "output_type": "stream",
     "text": [
      "Warning: 'defaults' already in 'channels' list, moving to the top\n",
      "Warning: 'conda-forge' already in 'channels' list, moving to the top\n",
      "Warning: 'bioconda' already in 'channels' list, moving to the top\n"
     ]
    }
   ],
   "source": [
    "# 启用 bioconda 'channel' 和其他一些\n",
    "conda config --add channels defaults\n",
    "conda config --add channels conda-forge\n",
    "conda config --add channels bioconda\n",
    "\n",
    "# 国内可以添加清华镜像\n",
    "conda config --add channels defaults\n",
    "conda config --add channels https://mirrors.tuna.tsinghua.edu.cn/anaconda/pkgs/free/\n",
    "conda config --add channels https://mirrors.tuna.tsinghua.edu.cn/anaconda/pkgs/main/\n",
    "conda config --add channels https://mirrors.tuna.tsinghua.edu.cn/anaconda/cloud/bioconda/\n",
    "conda config --set show_channel_urls yes\n",
    "\n",
    "# 更多请查看 https://mirrors.tuna.tsinghua.edu.cn/help/anaconda/"
   ]
  },
  {
   "cell_type": "code",
   "execution_count": 11,
   "metadata": {},
   "outputs": [
    {
     "name": "stdout",
     "output_type": "stream",
     "text": [
      "channels:\n",
      "  - bioconda\n",
      "  - conda-forge\n",
      "  - defaults\n"
     ]
    }
   ],
   "source": [
    "# 这是conda的配置文件，可以通过config命令修改\n",
    "# 底部的channel优先\n",
    "cat ~/.condarc"
   ]
  },
  {
   "cell_type": "code",
   "execution_count": 14,
   "metadata": {
    "slideshow": {
     "slide_type": "subslide"
    }
   },
   "outputs": [
    {
     "name": "stdout",
     "output_type": "stream",
     "text": [
      "Fetching package metadata ...............\n",
      "Solving package specifications: .\n",
      "\n",
      "Package plan for installation in environment /Users/perry/miniconda3:\n",
      "\n",
      "The following NEW packages will be INSTALLED:\n",
      "\n",
      "    seqtk:     1.2-0            bioconda\n",
      "\n",
      "The following packages will be UPDATED:\n",
      "\n",
      "    conda:     4.3.31-py36_0             --> 4.3.33-py36_0 conda-forge\n",
      "\n",
      "The following packages will be SUPERSEDED by a higher-priority channel:\n",
      "\n",
      "    conda-env: 2.6.0-h36134e3_0          --> 2.6.0-0       conda-forge\n",
      "\n",
      "conda-env-2.6. 100% |################################| Time: 0:00:00 395.33 kB/s\n",
      "seqtk-1.2-0.ta 100% |################################| Time: 0:00:00  63.60 kB/s\n",
      "conda-4.3.33-p 100% |################################| Time: 0:00:01 279.73 kB/s\n"
     ]
    }
   ],
   "source": [
    "# 安装一些conda包\n",
    "conda install -y seqtk"
   ]
  },
  {
   "cell_type": "code",
   "execution_count": 16,
   "metadata": {
    "slideshow": {
     "slide_type": "subslide"
    }
   },
   "outputs": [
    {
     "name": "stdout",
     "output_type": "stream",
     "text": [
      "Fetching package metadata ...............\n",
      "Solving package specifications: .\n",
      "\n",
      "# All requested packages already installed.\n",
      "# packages in environment at /Users/perry/miniconda3:\n",
      "#\n",
      "samtools                  0.1.15                        0    bioconda\n"
     ]
    }
   ],
   "source": [
    "# samtools版本0.1.15构建号0\n",
    "conda install -y samtools=0.1.15=0\n",
    "\n",
    "# conda install kallisto\n",
    "# conda install salmon=0.9.1 sailfish"
   ]
  },
  {
   "cell_type": "code",
   "execution_count": 17,
   "metadata": {
    "slideshow": {
     "slide_type": "subslide"
    }
   },
   "outputs": [
    {
     "name": "stdout",
     "output_type": "stream",
     "text": [
      "total 5792\n",
      "drwxr-xr-x  75 perry  staff   2.3K 31 Jan 12:49 \u001b[34m.\u001b[39;49m\u001b[0m\n",
      "drwxr-xr-x  13 perry  staff   416B 31 Jan 12:48 \u001b[34m..\u001b[39;49m\u001b[0m\n",
      "-rwxr-xr-x   2 perry  staff   216B 27 Oct 02:51 \u001b[31m.python.app-post-link.sh\u001b[39;49m\u001b[0m\n",
      "-rwxr-xr-x   2 perry  staff    39B 27 Oct 02:51 \u001b[31m.python.app-pre-unlink.sh\u001b[39;49m\u001b[0m\n",
      "lrwxr-xr-x   1 perry  staff     8B 31 Jan 12:49 \u001b[35m2to3\u001b[39;49m\u001b[0m -> 2to3-3.6\n",
      "-rwxrwxr-x   1 perry  staff   111B 31 Jan 12:49 \u001b[31m2to3-3.6\u001b[39;49m\u001b[0m\n",
      "-rwxrwxr-x   2 perry  staff   3.7K 25 Jan 01:56 \u001b[31mactivate\u001b[39;49m\u001b[0m\n",
      "-rwxr-xr-x   1 perry  staff   5.0K 31 Jan 12:09 \u001b[31mc_rehash\u001b[39;49m\u001b[0m\n",
      "lrwxr-xr-x   1 perry  staff     3B 31 Jan 12:48 \u001b[35mcaptoinfo\u001b[39;49m\u001b[0m -> tic\n",
      "-rwxr-xr-x   1 perry  staff   243B 31 Jan 12:10 \u001b[31mchardetect\u001b[39;49m\u001b[0m\n",
      "-rwxrwxr-x   2 perry  staff    13K  3 Dec  2016 \u001b[31mclear\u001b[39;49m\u001b[0m\n",
      "-rwxrwxr-x   1 perry  staff   132B 31 Jan 12:48 \u001b[31mconda\u001b[39;49m\u001b[0m\n",
      "-rwxrwxr-x   1 perry  staff   150B 31 Jan 12:48 \u001b[31mconda-env\u001b[39;49m\u001b[0m\n",
      "-rwxrwxr-x   2 perry  staff   3.0K 25 Jan 01:56 \u001b[31mdeactivate\u001b[39;49m\u001b[0m\n",
      "-rwxr-xr-x   1 perry  staff   252B 31 Jan 12:10 \u001b[31measy_install\u001b[39;49m\u001b[0m\n",
      "-rwxr-xr-x   1 perry  staff   469B 31 Jan 12:10 \u001b[31measy_install-3.6\u001b[39;49m\u001b[0m\n",
      "lrwxr-xr-x   1 perry  staff     7B 31 Jan 12:49 \u001b[35midle3\u001b[39;49m\u001b[0m -> idle3.6\n",
      "-rwxrwxr-x   1 perry  staff   109B 31 Jan 12:49 \u001b[31midle3.6\u001b[39;49m\u001b[0m\n",
      "-rwxrwxr-x   2 perry  staff    71K  3 Dec  2016 \u001b[31minfocmp\u001b[39;49m\u001b[0m\n",
      "lrwxr-xr-x   1 perry  staff     3B 31 Jan 12:48 \u001b[35minfotocap\u001b[39;49m\u001b[0m -> tic\n",
      "lrwxr-xr-x   1 perry  staff     2B 31 Jan 12:09 \u001b[35mlzcat\u001b[39;49m\u001b[0m -> xz\n",
      "lrwxr-xr-x   1 perry  staff     6B 31 Jan 12:09 \u001b[35mlzcmp\u001b[39;49m\u001b[0m -> xzdiff\n",
      "lrwxr-xr-x   1 perry  staff     6B 31 Jan 12:09 \u001b[35mlzdiff\u001b[39;49m\u001b[0m -> xzdiff\n",
      "lrwxr-xr-x   1 perry  staff     6B 31 Jan 12:09 \u001b[35mlzegrep\u001b[39;49m\u001b[0m -> xzgrep\n",
      "lrwxr-xr-x   1 perry  staff     6B 31 Jan 12:09 \u001b[35mlzfgrep\u001b[39;49m\u001b[0m -> xzgrep\n",
      "lrwxr-xr-x   1 perry  staff     6B 31 Jan 12:09 \u001b[35mlzgrep\u001b[39;49m\u001b[0m -> xzgrep\n",
      "lrwxr-xr-x   1 perry  staff     6B 31 Jan 12:09 \u001b[35mlzless\u001b[39;49m\u001b[0m -> xzless\n",
      "lrwxr-xr-x   1 perry  staff     2B 31 Jan 12:09 \u001b[35mlzma\u001b[39;49m\u001b[0m -> xz\n",
      "-rwxr-xr-x   2 perry  staff    14K  8 Nov 09:17 \u001b[31mlzmadec\u001b[39;49m\u001b[0m\n",
      "-rwxr-xr-x   2 perry  staff    13K  8 Nov 09:17 \u001b[31mlzmainfo\u001b[39;49m\u001b[0m\n",
      "lrwxr-xr-x   1 perry  staff     6B 31 Jan 12:09 \u001b[35mlzmore\u001b[39;49m\u001b[0m -> xzmore\n",
      "-rwxrwxr-x   1 perry  staff   5.2K 31 Jan 12:48 \u001b[31mncurses5-config\u001b[39;49m\u001b[0m\n",
      "-rwxrwxr-x   1 perry  staff   5.2K 31 Jan 12:48 \u001b[31mncursesw5-config\u001b[39;49m\u001b[0m\n",
      "-rwxr-xr-x   2 perry  staff   560K  8 Dec 03:05 \u001b[31mopenssl\u001b[39;49m\u001b[0m\n",
      "-rwxr-xr-x   1 perry  staff   224B 31 Jan 12:10 \u001b[31mpip\u001b[39;49m\u001b[0m\n",
      "lrwxr-xr-x   1 perry  staff     8B 31 Jan 12:49 \u001b[35mpydoc\u001b[39;49m\u001b[0m -> pydoc3.6\n",
      "lrwxr-xr-x   1 perry  staff     8B 31 Jan 12:49 \u001b[35mpydoc3\u001b[39;49m\u001b[0m -> pydoc3.6\n",
      "-rwxrwxr-x   1 perry  staff    94B 31 Jan 12:49 \u001b[31mpydoc3.6\u001b[39;49m\u001b[0m\n",
      "lrwxr-xr-x   1 perry  staff     9B 31 Jan 12:49 \u001b[35mpython\u001b[39;49m\u001b[0m -> python3.6\n",
      "-rwxr-xr-x   1 perry  staff   133B 31 Jan 12:10 \u001b[31mpython.app\u001b[39;49m\u001b[0m\n",
      "lrwxr-xr-x   1 perry  staff     9B 31 Jan 12:49 \u001b[35mpython3\u001b[39;49m\u001b[0m -> python3.6\n",
      "lrwxr-xr-x   1 perry  staff    17B 31 Jan 12:49 \u001b[35mpython3-config\u001b[39;49m\u001b[0m -> python3.6m-config\n",
      "-rwxrwxr-x   1 perry  staff    13K 31 Jan 12:49 \u001b[31mpython3.6\u001b[39;49m\u001b[0m\n",
      "lrwxr-xr-x   1 perry  staff    17B 31 Jan 12:49 \u001b[35mpython3.6-config\u001b[39;49m\u001b[0m -> python3.6m-config\n",
      "-rwxrwxr-x   1 perry  staff    13K 31 Jan 12:49 \u001b[31mpython3.6m\u001b[39;49m\u001b[0m\n",
      "-rwxrwxr-x   1 perry  staff   2.0K 31 Jan 12:49 \u001b[31mpython3.6m-config\u001b[39;49m\u001b[0m\n",
      "-rwxr-xr-x   1 perry  staff   133B 31 Jan 12:10 \u001b[31mpythonw\u001b[39;49m\u001b[0m\n",
      "lrwxr-xr-x   1 perry  staff    10B 31 Jan 12:49 \u001b[35mpyvenv\u001b[39;49m\u001b[0m -> pyvenv-3.6\n",
      "-rwxrwxr-x   1 perry  staff   451B 31 Jan 12:49 \u001b[31mpyvenv-3.6\u001b[39;49m\u001b[0m\n",
      "lrwxr-xr-x   1 perry  staff     4B 31 Jan 12:48 \u001b[35mreset\u001b[39;49m\u001b[0m -> tset\n",
      "-rwxrwxr-x   2 perry  staff   391K  7 Oct 04:36 \u001b[31msamtools\u001b[39;49m\u001b[0m\n",
      "-rwxr-xr-x   2 perry  staff    59K  8 Jun  2016 \u001b[31mseqtk\u001b[39;49m\u001b[0m\n",
      "-rwxr-xr-x   2 perry  staff   1.3M  9 Jun  2016 \u001b[31msqlite3\u001b[39;49m\u001b[0m\n",
      "-rwxrwxr-x   2 perry  staff    18K  3 Dec  2016 \u001b[31mtabs\u001b[39;49m\u001b[0m\n",
      "lrwxr-xr-x   1 perry  staff     8B 31 Jan 12:49 \u001b[35mtclsh\u001b[39;49m\u001b[0m -> tclsh8.5\n",
      "-rwxrwxr-x   2 perry  staff    12K 27 Jul  2017 \u001b[31mtclsh8.5\u001b[39;49m\u001b[0m\n",
      "-rwxrwxr-x   2 perry  staff    80K  3 Dec  2016 \u001b[31mtic\u001b[39;49m\u001b[0m\n",
      "-rwxrwxr-x   2 perry  staff    19K  3 Dec  2016 \u001b[31mtoe\u001b[39;49m\u001b[0m\n",
      "-rwxrwxr-x   2 perry  staff    23K  3 Dec  2016 \u001b[31mtput\u001b[39;49m\u001b[0m\n",
      "-rwxrwxr-x   2 perry  staff    28K  3 Dec  2016 \u001b[31mtset\u001b[39;49m\u001b[0m\n",
      "lrwxr-xr-x   1 perry  staff     2B 31 Jan 12:09 \u001b[35munlzma\u001b[39;49m\u001b[0m -> xz\n",
      "lrwxr-xr-x   1 perry  staff     2B 31 Jan 12:09 \u001b[35munxz\u001b[39;49m\u001b[0m -> xz\n",
      "-rwxr-xr-x   1 perry  staff   231B 31 Jan 12:10 \u001b[31mwheel\u001b[39;49m\u001b[0m\n",
      "lrwxr-xr-x   1 perry  staff     7B 31 Jan 12:49 \u001b[35mwish\u001b[39;49m\u001b[0m -> wish8.5\n",
      "-rwxrwxr-x   2 perry  staff    21K 27 Jul  2017 \u001b[31mwish8.5\u001b[39;49m\u001b[0m\n",
      "-rwxr-xr-x   2 perry  staff    73K  8 Nov 09:17 \u001b[31mxz\u001b[39;49m\u001b[0m\n",
      "lrwxr-xr-x   1 perry  staff     2B 31 Jan 12:09 \u001b[35mxzcat\u001b[39;49m\u001b[0m -> xz\n",
      "lrwxr-xr-x   1 perry  staff     6B 31 Jan 12:09 \u001b[35mxzcmp\u001b[39;49m\u001b[0m -> xzdiff\n",
      "-rwxr-xr-x   2 perry  staff    14K  8 Nov 09:17 \u001b[31mxzdec\u001b[39;49m\u001b[0m\n",
      "-rwxr-xr-x   2 perry  staff   6.5K  8 Nov 09:17 \u001b[31mxzdiff\u001b[39;49m\u001b[0m\n",
      "lrwxr-xr-x   1 perry  staff     6B 31 Jan 12:09 \u001b[35mxzegrep\u001b[39;49m\u001b[0m -> xzgrep\n",
      "lrwxr-xr-x   1 perry  staff     6B 31 Jan 12:09 \u001b[35mxzfgrep\u001b[39;49m\u001b[0m -> xzgrep\n",
      "-rwxr-xr-x   2 perry  staff   5.5K  8 Nov 09:17 \u001b[31mxzgrep\u001b[39;49m\u001b[0m\n",
      "-rwxr-xr-x   2 perry  staff   1.8K  8 Nov 09:17 \u001b[31mxzless\u001b[39;49m\u001b[0m\n",
      "-rwxr-xr-x   2 perry  staff   2.1K  8 Nov 09:17 \u001b[31mxzmore\u001b[39;49m\u001b[0m\n"
     ]
    }
   ],
   "source": [
    "# 看下包都被装在哪里了\n",
    "ls ~/miniconda3/bin"
   ]
  },
  {
   "cell_type": "markdown",
   "metadata": {
    "slideshow": {
     "slide_type": "slide"
    }
   },
   "source": [
    "## 使用环境\n",
    "\n",
    "让我们创建和切换到一个新的环境，安装一些包，记录我们安装了什么，然后退出环境。\n",
    "\n",
    "https://conda.io/docs/user-guide/tasks/manage-environments.html"
   ]
  },
  {
   "cell_type": "code",
   "execution_count": 2,
   "metadata": {
    "slideshow": {
     "slide_type": "subslide"
    }
   },
   "outputs": [
    {
     "name": "stdout",
     "output_type": "stream",
     "text": [
      "Fetching package metadata ...............\n",
      "Solving package specifications: \n",
      "Package plan for installation in environment /Users/perry/miniconda3/envs/new_env:\n",
      "\n",
      "#\n",
      "# To activate this environment, use:\n",
      "# > source activate new_env\n",
      "#\n",
      "# To deactivate an active environment, use:\n",
      "# > source deactivate\n",
      "#\n",
      "\n"
     ]
    }
   ],
   "source": [
    "# 创建一个新的Conda环境\n",
    "conda create -y --name new_env"
   ]
  },
  {
   "cell_type": "code",
   "execution_count": 3,
   "metadata": {
    "slideshow": {
     "slide_type": "subslide"
    }
   },
   "outputs": [
    {
     "name": "stdout",
     "output_type": "stream",
     "text": [
      "(new_env) "
     ]
    },
    {
     "ename": "",
     "evalue": "1",
     "execution_count": 3,
     "output_type": "error",
     "traceback": []
    }
   ],
   "source": [
    "# 显式地启用环境\n",
    "source activate new_env"
   ]
  },
  {
   "cell_type": "code",
   "execution_count": 4,
   "metadata": {
    "slideshow": {
     "slide_type": "subslide"
    }
   },
   "outputs": [
    {
     "name": "stdout",
     "output_type": "stream",
     "text": [
      "(new_env) Fetching package metadata ...............\n",
      "Solving package specifications: .\n",
      "\n",
      "Package plan for installation in environment /Users/perry/miniconda3/envs/new_env:\n",
      "\n",
      "The following NEW packages will be INSTALLED:\n",
      "\n",
      "    ncurses:  5.9-10   conda-forge\n",
      "    samtools: 0.1.14-0 bioconda   \n",
      "    zlib:     1.2.8-3  conda-forge\n",
      "\n",
      "(new_env) "
     ]
    },
    {
     "ename": "",
     "evalue": "1",
     "execution_count": 4,
     "output_type": "error",
     "traceback": []
    }
   ],
   "source": [
    "# 安装一些包\n",
    "conda install -y samtools=0.1.14"
   ]
  },
  {
   "cell_type": "code",
   "execution_count": 5,
   "metadata": {
    "slideshow": {
     "slide_type": "subslide"
    }
   },
   "outputs": [
    {
     "name": "stdout",
     "output_type": "stream",
     "text": [
      "(new_env) (new_env) total 1336\n",
      "drwxr-xr-x  18 perry  staff   576B  1 Feb 15:30 \u001b[34m.\u001b[39;49m\u001b[0m\n",
      "drwxr-xr-x   7 perry  staff   224B  1 Feb 15:30 \u001b[34m..\u001b[39;49m\u001b[0m\n",
      "lrwxr-xr-x   1 perry  staff    36B  1 Feb 15:30 \u001b[35mactivate\u001b[39;49m\u001b[0m -> /Users/perry/miniconda3/bin/activate\n",
      "lrwxr-xr-x   1 perry  staff     3B  1 Feb 15:30 \u001b[35mcaptoinfo\u001b[39;49m\u001b[0m -> tic\n",
      "-rwxrwxr-x   3 perry  staff    13K  3 Dec  2016 \u001b[31mclear\u001b[39;49m\u001b[0m\n",
      "lrwxr-xr-x   1 perry  staff    33B  1 Feb 15:30 \u001b[35mconda\u001b[39;49m\u001b[0m -> /Users/perry/miniconda3/bin/conda\n",
      "lrwxr-xr-x   1 perry  staff    38B  1 Feb 15:30 \u001b[35mdeactivate\u001b[39;49m\u001b[0m -> /Users/perry/miniconda3/bin/deactivate\n",
      "-rwxrwxr-x   3 perry  staff    71K  3 Dec  2016 \u001b[31minfocmp\u001b[39;49m\u001b[0m\n",
      "lrwxr-xr-x   1 perry  staff     3B  1 Feb 15:30 \u001b[35minfotocap\u001b[39;49m\u001b[0m -> tic\n",
      "-rwxrwxr-x   1 perry  staff   5.2K  1 Feb 15:30 \u001b[31mncurses5-config\u001b[39;49m\u001b[0m\n",
      "-rwxrwxr-x   1 perry  staff   5.2K  1 Feb 15:30 \u001b[31mncursesw5-config\u001b[39;49m\u001b[0m\n",
      "lrwxr-xr-x   1 perry  staff     4B  1 Feb 15:30 \u001b[35mreset\u001b[39;49m\u001b[0m -> tset\n",
      "-rwxrwxr-x   3 perry  staff   381K  7 Oct 04:39 \u001b[31msamtools\u001b[39;49m\u001b[0m\n",
      "-rwxrwxr-x   3 perry  staff    18K  3 Dec  2016 \u001b[31mtabs\u001b[39;49m\u001b[0m\n",
      "-rwxrwxr-x   3 perry  staff    80K  3 Dec  2016 \u001b[31mtic\u001b[39;49m\u001b[0m\n",
      "-rwxrwxr-x   3 perry  staff    19K  3 Dec  2016 \u001b[31mtoe\u001b[39;49m\u001b[0m\n",
      "-rwxrwxr-x   3 perry  staff    23K  3 Dec  2016 \u001b[31mtput\u001b[39;49m\u001b[0m\n",
      "-rwxrwxr-x   3 perry  staff    28K  3 Dec  2016 \u001b[31mtset\u001b[39;49m\u001b[0m\n",
      "(new_env) /Users/perry/miniconda3/envs/new_env/bin/samtools\n",
      "(new_env) "
     ]
    },
    {
     "ename": "",
     "evalue": "1",
     "execution_count": 5,
     "output_type": "error",
     "traceback": []
    }
   ],
   "source": [
    "# 默认，环境位于 ~/miniconda3/envs\n",
    "# 看一下\n",
    "ls ~/miniconda3/envs/new_env/bin\n",
    "which samtools"
   ]
  },
  {
   "cell_type": "code",
   "execution_count": 6,
   "metadata": {
    "slideshow": {
     "slide_type": "subslide"
    }
   },
   "outputs": [
    {
     "name": "stdout",
     "output_type": "stream",
     "text": [
      "(new_env) (new_env) (new_env) (new_env) (new_env) name: new_env\n",
      "channels:\n",
      "- bioconda\n",
      "- conda-forge\n",
      "- defaults\n",
      "dependencies:\n",
      "- samtools=0.1.14=0\n",
      "- ncurses=5.9=10\n",
      "- zlib=1.2.8=3\n",
      "prefix: /Users/perry/miniconda3/envs/new_env\n",
      "\n",
      "(new_env) "
     ]
    },
    {
     "ename": "",
     "evalue": "1",
     "execution_count": 6,
     "output_type": "error",
     "traceback": []
    }
   ],
   "source": [
    "# 你可以将当前的环境导出为一个environment.yml文件\n",
    "# 这有点像Python中的requirements.txt文件\n",
    "# 保留你分析项目的environment.yml\n",
    "conda env export >environment.yml\n",
    "\n",
    "cat environment.yml"
   ]
  },
  {
   "cell_type": "code",
   "execution_count": 7,
   "metadata": {
    "slideshow": {
     "slide_type": "subslide"
    }
   },
   "outputs": [
    {
     "name": "stdout",
     "output_type": "stream",
     "text": [
      "(new_env) (new_env) (new_env) (new_env) # This file may be used to create an environment using:\n",
      "# $ conda create --name <env> --file <this file>\n",
      "# platform: osx-64\n",
      "@EXPLICIT\n",
      "https://conda.anaconda.org/conda-forge/osx-64/ncurses-5.9-10.tar.bz2#f303ad9e588c5f06b9b02077b57d88d5\n",
      "https://conda.anaconda.org/bioconda/osx-64/samtools-0.1.14-0.tar.bz2#d2d79f5cab9c1c420887875623d26ea9\n",
      "https://conda.anaconda.org/conda-forge/osx-64/zlib-1.2.8-3.tar.bz2#03b6fcc7a5e1a471e74049665e1c06b0\n",
      "(new_env) "
     ]
    },
    {
     "ename": "",
     "evalue": "1",
     "execution_count": 7,
     "output_type": "error",
     "traceback": []
    }
   ],
   "source": [
    "# 另外，如果你想要通过channel + version + build + md5检验和锁定准确的包版本\n",
    "# 注意这里有平台特异性，但更好地保证了可重复性\n",
    "conda list --show-channel-urls --md5 --explicit >package-list.txt\n",
    "\n",
    "cat package-list.txt"
   ]
  },
  {
   "cell_type": "code",
   "execution_count": null,
   "metadata": {
    "slideshow": {
     "slide_type": "subslide"
    }
   },
   "outputs": [],
   "source": [
    "# 你可以使用这些文件创建包含这些包的新环境\n",
    "# 命令如下：\n",
    "\n",
    "# conda create --name reproduced_env --file environment.yml\n",
    "# conda create --name locked_reproduced_env --file package-list.txt"
   ]
  },
  {
   "cell_type": "code",
   "execution_count": 9,
   "metadata": {
    "slideshow": {
     "slide_type": "subslide"
    }
   },
   "outputs": [
    {
     "name": "stdout",
     "output_type": "stream",
     "text": [
      "(new_env) (new_env) (new_env) (new_env) (new_env) "
     ]
    }
   ],
   "source": [
    "# 离开环境\n",
    "source deactivate"
   ]
  },
  {
   "cell_type": "markdown",
   "metadata": {
    "slideshow": {
     "slide_type": "slide"
    }
   },
   "source": [
    "# brew / linuxbrew怎么样？\n",
    "\n",
    "* macOS系统的`brew`和`linuxbrew`基本上都是分离的项目。 \n",
    "\n",
    "* 据传brew/linuxbrew生信软件的安装质量不好，经常崩溃。\n",
    "\n",
    "## _homebrew-science_已经弃用了\n",
    "\n",
    "https://github.com/Homebrew/homebrew-science/issues/6365"
   ]
  },
  {
   "cell_type": "markdown",
   "metadata": {
    "slideshow": {
     "slide_type": "slide"
    }
   },
   "source": [
    "# apt, yum 等怎么样？\n",
    "\n",
    "* 目标是系统级别的包 - 通常不能处理无权限的安装或者包版本的共存。\n",
    "\n",
    "* 官方发行（Debian, Ubuntu, Centos）软件库很少能跟上生信软件的更新。非官方仓库有时候填补了空白（如Debian Med）。\n",
    "\n",
    "* 创建包实在太复杂了。\n"
   ]
  },
  {
   "cell_type": "markdown",
   "metadata": {
    "slideshow": {
     "slide_type": "slide"
    }
   },
   "source": [
    "# _modules_, LMOD等怎么样？\n",
    "\n",
    "* 很适合使用环境变量（即 `PATH`）来管理共存版本。 \n",
    "\n",
    "* LMOD环境可以“附加”（许多“modules”可以同时导入，不像conda环境）。\n",
    "\n",
    "* LMOD不是一个包管理器（处理不了下载/编译/安装）。 "
   ]
  },
  {
   "cell_type": "markdown",
   "metadata": {
    "slideshow": {
     "slide_type": "slide"
    }
   },
   "source": [
    "# _pip_和_virtualenv_怎么样？\n",
    "\n",
    "* 这两个都和Python一起的，对Python包和包生态非常好。\n",
    "* 对非Python包不友好（二进制包和依赖）。"
   ]
  },
  {
   "cell_type": "markdown",
   "metadata": {
    "slideshow": {
     "slide_type": "slide"
    }
   },
   "source": [
    "# bio-ansible怎么样？\n",
    "\n",
    "* [bio-ansible](https://github.com/MonashBioinformaticsPlatform/bio-ansible)因为是我们写的，所以非常棒。 \n",
    "* 不那么棒的地方是为了安装新的工具我们必须编写任务。\n",
    "  - 但是！bio-ansible 也支持安装`conda`包为LMOD模块（我们可以轻松地从Bioconda添加任何东西）。\n",
    "* 支持无权限软件在家目录中安装、系统包和配置。\n",
    "* 通过LMOD模块支持版本共存。\n",
    "* 学习成本高。"
   ]
  },
  {
   "cell_type": "markdown",
   "metadata": {
    "slideshow": {
     "slide_type": "slide"
    }
   },
   "source": [
    "# 我发现Conda没有处理好的一些事情\n",
    "\n",
    "* 没有官方支持'stacking'环境和*ala* LMOD。\n",
    "  - 我们该关心吗？软件比较小、硬盘空间便宜，让环境用所需的不同工具版本进行组合。\n",
    "  - 非官方添加`max_shlvl: 16`到`~/.condarc`可以支持（YMMV）(https://github.com/conda/conda/issues/3580)。\n",
    "* 构建包的食谱指明依赖名但没有依赖来自的channel名。\n",
    "* 没有从源安装的方法（例如`conda install https://github.com/me/my_recipe`）、预编译二进制文件？\n",
    "  - 考虑和拒绝的功能特性 https://github.com/conda/conda/issues/306"
   ]
  },
  {
   "cell_type": "markdown",
   "metadata": {
    "slideshow": {
     "slide_type": "slide"
    }
   },
   "source": [
    "# 创建(Bio)conda包\n",
    "\n",
    "## 让我们看一下_seqtk_的Bionconda食谱\n",
    "\n",
    "https://github.com/bioconda/bioconda-recipes/tree/master/recipes/seqtk"
   ]
  },
  {
   "cell_type": "markdown",
   "metadata": {
    "slideshow": {
     "slide_type": "subslide"
    }
   },
   "source": [
    "### build.sh\n",
    "```bash\n",
    "#!/bin/bash\n",
    "\n",
    "export C_INCLUDE_PATH=${PREFIX}/include\n",
    "export LIBRARY_PATH=${PREFIX}/lib\n",
    "\n",
    "make all\n",
    "mkdir -p $PREFIX/bin\n",
    "cp -f seqtk $PREFIX/bin/\n",
    "```\n",
    "\n",
    "`PREFIX`是conda构建环境中的安装路径（在配置文件中你可能会使用`configure --prefix=$PREFIX`）"
   ]
  },
  {
   "cell_type": "markdown",
   "metadata": {
    "slideshow": {
     "slide_type": "subslide"
    }
   },
   "source": [
    "## meta.yaml\n",
    "```yaml\n",
    "package:\n",
    "  name: seqtk\n",
    "  version: 1.2\n",
    "\n",
    "source:\n",
    "  fn: v1.2.tar.gz\n",
    "  url: https://github.com/lh3/seqtk/archive/v1.2.tar.gz\n",
    "  md5: 255ffe05bf2f073dc57abcff97f11a37\n",
    "\n",
    "build:\n",
    "  number: 0\n",
    "\n",
    "requirements:\n",
    "  build:\n",
    "    - gcc   # [not osx]\n",
    "    - llvm  # [osx]\n",
    "    - zlib\n",
    "  run:\n",
    "    - zlib\n",
    "\n",
    "\n",
    "about:\n",
    "  home: https://github.com/lh3/seqtk\n",
    "  license: MIT License\n",
    "  summary: Seqtk is a fast and lightweight tool for processing sequences in the FASTA or FASTQ format\n",
    "\n",
    "test:\n",
    "  commands:\n",
    "    - seqtk seq\n",
    "```"
   ]
  },
  {
   "cell_type": "markdown",
   "metadata": {
    "slideshow": {
     "slide_type": "slide"
    }
   },
   "source": [
    "## 构建一个食谱（普通conda方式）"
   ]
  },
  {
   "cell_type": "code",
   "execution_count": 25,
   "metadata": {
    "slideshow": {
     "slide_type": "subslide"
    }
   },
   "outputs": [],
   "source": [
    "cd ~\n",
    "mkdir -p recipes/seqtk\n",
    "\n",
    "# 创建你的build.sh和meta.yml\n",
    "# 另见`conda skeleton`，它可以帮助生成特定包类型的模板\n",
    "\n",
    "# vi recipes/seqtk/build.sh\n",
    "# vi recipes/seqtk/meta.yaml"
   ]
  },
  {
   "cell_type": "code",
   "execution_count": 28,
   "metadata": {
    "slideshow": {
     "slide_type": "subslide"
    }
   },
   "outputs": [
    {
     "name": "stdout",
     "output_type": "stream",
     "text": [
      "Fetching package metadata ...............\n",
      "Solving package specifications: .\n",
      "\n",
      "Package plan for installation in environment /Users/perry/miniconda3:\n",
      "\n",
      "The following NEW packages will be INSTALLED:\n",
      "\n",
      "    beautifulsoup4: 4.6.0-py36_0  conda-forge\n",
      "    conda-build:    2.1.18-py36_0 conda-forge\n",
      "    conda-verify:   2.0.0-py36_0  conda-forge\n",
      "    filelock:       2.0.6-py36_0  conda-forge\n",
      "    jinja2:         2.10-py36_0   conda-forge\n",
      "    markupsafe:     1.0-py36_0    conda-forge\n",
      "    pkginfo:        1.4.1-py36_0  conda-forge\n",
      "    pycrypto:       2.6.1-py36_1  conda-forge\n",
      "    pyyaml:         3.12-py36_1   conda-forge\n",
      "\n",
      "beautifulsoup4 100% |################################| Time: 0:00:02  59.83 kB/s\n",
      "filelock-2.0.6 100% |################################| Time: 0:00:00   3.52 MB/s\n",
      "markupsafe-1.0 100% |################################| Time: 0:00:00  29.10 kB/s\n",
      "pkginfo-1.4.1- 100% |################################| Time: 0:00:00  83.65 kB/s\n",
      "pycrypto-2.6.1 100% |################################| Time: 0:00:05  86.19 kB/s\n",
      "pyyaml-3.12-py 100% |################################| Time: 0:00:02  70.36 kB/s\n",
      "conda-verify-2 100% |################################| Time: 0:00:00  62.62 kB/s\n",
      "jinja2-2.10-py 100% |################################| Time: 0:00:02  76.46 kB/s\n",
      "conda-build-2. 100% |################################| Time: 0:00:03  81.03 kB/s\n"
     ]
    }
   ],
   "source": [
    "# 我们需要conda-build包构建包\n",
    "conda install -y conda-build"
   ]
  },
  {
   "cell_type": "code",
   "execution_count": 31,
   "metadata": {
    "slideshow": {
     "slide_type": "subslide"
    }
   },
   "outputs": [
    {
     "name": "stdout",
     "output_type": "stream",
     "text": [
      "BUILD START: seqtk-1.2-0\n",
      "updating index in: /Users/perry/miniconda3/conda-bld/osx-64\n",
      "updating index in: /Users/perry/miniconda3/conda-bld/noarch\n",
      "\n",
      "The following NEW packages will be INSTALLED:\n",
      "\n",
      "    cctools:       895-h7512d6f_0              \n",
      "    ld64:          274.2-h7c2db76_0            \n",
      "    libcxx:        4.0.1-h579ed51_0            \n",
      "    libcxxabi:     4.0.1-hebd6815_0            \n",
      "    llvm:          4.0.1-hc748206_0            \n",
      "    llvm-lto-tapi: 4.0.1-h6701bc3_0            \n",
      "    zlib:          1.2.11-0         conda-forge\n",
      "\n",
      "\n",
      "WARNING: conda-build appears to be out of date. You have version 2.1.18 but the\n",
      "latest version is 3.3.0. Run\n",
      "\n",
      "conda update -n root conda-build\n",
      "\n",
      "to get the latest version.\n",
      "\n",
      "Source cache directory is: /Users/perry/miniconda3/conda-bld/src_cache\n",
      "Downloading source to cache: v1.2.tar.gz\n",
      "Downloading https://github.com/lh3/seqtk/archive/v1.2.tar.gz\n",
      "Success\n",
      "Extracting download\n",
      "Package: seqtk-1.2-0\n",
      "source tree in: /Users/perry/miniconda3/conda-bld/seqtk_1517365865334/work/seqtk-1.2\n",
      "+ source /Users/perry/miniconda3/bin/activate /Users/perry/miniconda3/conda-bld/seqtk_1517365865334/_b_env_placehold_placehold_placehold_placehold_placehold_placehold_placehold_placehold_placehold_placehold_placehold_placehold_placehold_placehold_placehold_placehold_placehold_placehold_placehold_plac\n",
      "+ export C_INCLUDE_PATH=/Users/perry/miniconda3/conda-bld/seqtk_1517365865334/_b_env_placehold_placehold_placehold_placehold_placehold_placehold_placehold_placehold_placehold_placehold_placehold_placehold_placehold_placehold_placehold_placehold_placehold_placehold_placehold_plac/include\n",
      "+ C_INCLUDE_PATH=/Users/perry/miniconda3/conda-bld/seqtk_1517365865334/_b_env_placehold_placehold_placehold_placehold_placehold_placehold_placehold_placehold_placehold_placehold_placehold_placehold_placehold_placehold_placehold_placehold_placehold_placehold_placehold_plac/include\n",
      "+ export LIBRARY_PATH=/Users/perry/miniconda3/conda-bld/seqtk_1517365865334/_b_env_placehold_placehold_placehold_placehold_placehold_placehold_placehold_placehold_placehold_placehold_placehold_placehold_placehold_placehold_placehold_placehold_placehold_placehold_placehold_plac/lib\n",
      "+ LIBRARY_PATH=/Users/perry/miniconda3/conda-bld/seqtk_1517365865334/_b_env_placehold_placehold_placehold_placehold_placehold_placehold_placehold_placehold_placehold_placehold_placehold_placehold_placehold_placehold_placehold_placehold_placehold_placehold_placehold_plac/lib\n",
      "+ make all\n",
      "gcc -g -Wall -O2 -Wno-unused-function seqtk.c -o seqtk -lz -lm\n",
      "+ mkdir -p /Users/perry/miniconda3/conda-bld/seqtk_1517365865334/_b_env_placehold_placehold_placehold_placehold_placehold_placehold_placehold_placehold_placehold_placehold_placehold_placehold_placehold_placehold_placehold_placehold_placehold_placehold_placehold_plac/bin\n",
      "+ cp -f seqtk /Users/perry/miniconda3/conda-bld/seqtk_1517365865334/_b_env_placehold_placehold_placehold_placehold_placehold_placehold_placehold_placehold_placehold_placehold_placehold_placehold_placehold_placehold_placehold_placehold_placehold_placehold_placehold_plac/bin/\n",
      "INFO:conda_build.build:Packaging seqtk-1.2-0\n",
      "number of files: 1\n",
      "Fixing permissions\n",
      "Fixing linking of @rpath/libz.1.dylib in /Users/perry/miniconda3/conda-bld/seqtk_1517365865334/_b_env_placehold_placehold_placehold_placehold_placehold_placehold_placehold_placehold_placehold_placehold_placehold_placehold_placehold_placehold_placehold_placehold_placehold_placehold_placehold_plac/bin/seqtk\n",
      "Fixing linking of /usr/lib/libSystem.B.dylib in /Users/perry/miniconda3/conda-bld/seqtk_1517365865334/_b_env_placehold_placehold_placehold_placehold_placehold_placehold_placehold_placehold_placehold_placehold_placehold_placehold_placehold_placehold_placehold_placehold_placehold_placehold_placehold_plac/bin/seqtk\n",
      "install_name_tool -add_rpath @loader_path/../lib/ /Users/perry/miniconda3/conda-bld/seqtk_1517365865334/_b_env_placehold_placehold_placehold_placehold_placehold_placehold_placehold_placehold_placehold_placehold_placehold_placehold_placehold_placehold_placehold_placehold_placehold_placehold_placehold_plac/bin/seqtk\n",
      "\n",
      "Fixing permissions\n",
      "/Users/perry/miniconda3/conda-bld/osx-64/seqtk-1.2-0.tar.bz2\n",
      "updating index in: /Users/perry/miniconda3/conda-bld\n",
      "updating index in: /Users/perry/miniconda3/conda-bld/noarch\n",
      "updating index in: /Users/perry/miniconda3/conda-bld/osx-64\n",
      "updating: seqtk-1.2-0.tar.bz2\n",
      "updating index in: /Users/perry/miniconda3/conda-bld\n",
      "TEST START: /Users/perry/miniconda3/conda-bld/osx-64/seqtk-1.2-0.tar.bz2\n",
      "Deleting work directory, /Users/perry/miniconda3/conda-bld/seqtk_1517365865334/work/seqtk-1.2\n",
      "\n",
      "The following NEW packages will be INSTALLED:\n",
      "\n",
      "    seqtk: 1.2-0    local      \n",
      "    zlib:  1.2.11-0 conda-forge\n",
      "\n",
      "\n",
      "WARNING: conda-build appears to be out of date. You have version 2.1.18 but the\n",
      "latest version is 3.3.0. Run\n",
      "\n",
      "conda update -n root conda-build\n",
      "\n",
      "to get the latest version.\n",
      "\n",
      "+ source /Users/perry/miniconda3/bin/activate /Users/perry/miniconda3/conda-bld/seqtk_1517365865334/_t_env\n",
      "+ /bin/bash -x -e /Users/perry/miniconda3/conda-bld/seqtk_1517365865334/test_tmp/run_test.sh\n",
      "+ seqtk seq\n",
      "\n",
      "Usage:   seqtk seq [options] <in.fq>|<in.fa>\n",
      "\n",
      "Options: -q INT    mask bases with quality lower than INT [0]\n",
      "         -X INT    mask bases with quality higher than INT [255]\n",
      "         -n CHAR   masked bases converted to CHAR; 0 for lowercase [0]\n",
      "         -l INT    number of residues per line; 0 for 2^32-1 [0]\n",
      "         -Q INT    quality shift: ASCII-INT gives base quality [33]\n",
      "         -s INT    random seed (effective with -f) [11]\n",
      "         -f FLOAT  sample FLOAT fraction of sequences [1]\n",
      "         -M FILE   mask regions in BED or name list FILE [null]\n",
      "         -L INT    drop sequences with length shorter than INT [0]\n",
      "         -c        mask complement region (effective with -M)\n",
      "         -r        reverse complement\n",
      "         -A        force FASTA output (discard quality)\n",
      "         -C        drop comments at the header lines\n",
      "         -N        drop sequences containing ambiguous bases\n",
      "         -1        output the 2n-1 reads only\n",
      "         -2        output the 2n reads only\n",
      "         -V        shift quality by '(-Q) - 33'\n",
      "         -U        convert all bases to uppercases\n",
      "         -S        strip of white spaces in sequences\n",
      "\n",
      "TEST END: /Users/perry/miniconda3/conda-bld/osx-64/seqtk-1.2-0.tar.bz2\n",
      "INFO:conda_build.config:--dirty flag and --keep-old-work not specified.Removing build/test folder after successful build/test.\n",
      "\n",
      "# Automatic uploading is disabled\n",
      "# If you want to upload package(s) to anaconda.org later, type:\n",
      "\n",
      "anaconda upload /Users/perry/miniconda3/conda-bld/osx-64/seqtk-1.2-0.tar.bz2\n",
      "\n",
      "# To have conda build upload to anaconda.org automatically, use\n",
      "# $ conda config --set anaconda_upload yes\n",
      "\n",
      "anaconda_upload is not set.  Not uploading wheels: []\n"
     ]
    }
   ],
   "source": [
    "# 一旦一个新的食谱创建了，我们就可以构建\n",
    "conda build recipes/seqtk/"
   ]
  },
  {
   "cell_type": "code",
   "execution_count": 32,
   "metadata": {
    "slideshow": {
     "slide_type": "subslide"
    }
   },
   "outputs": [
    {
     "name": "stdout",
     "output_type": "stream",
     "text": [
      "/Users/perry/miniconda3/conda-bld/osx-64/seqtk-1.2-0.tar.bz2\n"
     ]
    }
   ],
   "source": [
    "# 我们刚创建包的归档在哪里？\n",
    "conda build recipes/seqtk/ --output"
   ]
  },
  {
   "cell_type": "code",
   "execution_count": 34,
   "metadata": {},
   "outputs": [
    {
     "name": "stdout",
     "output_type": "stream",
     "text": [
      "Fetching package metadata .................\n",
      "Solving package specifications: .\n",
      "\n",
      "Package plan for installation in environment /Users/perry/miniconda3:\n",
      "\n",
      "The following NEW packages will be INSTALLED:\n",
      "\n",
      "    seqtk: 1.2-0 local\n",
      "\n"
     ]
    }
   ],
   "source": [
    "# 安装本地构建的包（使用'local' channel）\n",
    "conda install -y --use-local seqtk\n",
    "\n",
    "# 或者直接使用包的tar.bz2压缩包，或者存储它的http://链接\n",
    "# conda install /Users/perry/miniconda3/conda-bld/osx-64/seqtk-1.2-0.tar.bz2\n",
    "# conda install http://bioinformatics.erc.monash.edu/home/andrewperry/conda/seqtk-1.2-0.tar.bz2"
   ]
  },
  {
   "cell_type": "markdown",
   "metadata": {
    "slideshow": {
     "slide_type": "slide"
    }
   },
   "source": [
    "### 在Anaconda.org上发布\n",
    "\n",
    "（在个人的`conda` channel上，独立于Bioconda项目channel）\n",
    "\n",
    "步骤 1:\n",
    "在<https://anaconda.org/>创建一个账号"
   ]
  },
  {
   "cell_type": "code",
   "execution_count": null,
   "metadata": {},
   "outputs": [],
   "source": [
    "# 步骤 2: 安装`anaconda-client`包\n",
    "conda install anaconda-client\n",
    "\n",
    "# 步骤 3: 登陆和上传\n",
    "anaconda login\n",
    "# use the path to the package reported by `conda build recipes/seqtk/ --output`\n",
    "anaconda upload <path_to_package_bz2>\n",
    "\n",
    "# 步骤 4: 测试包是否正常工作 —— 从你上传的channel上安装\n",
    "conda uninstall bigdatascript\n",
    "conda install -c https://conda.anaconda.org/pansapiens bigdatascript"
   ]
  },
  {
   "cell_type": "markdown",
   "metadata": {
    "slideshow": {
     "slide_type": "slide"
    }
   },
   "source": [
    "# Bioconda方式\n",
    "\n",
    "http://bioconda.github.io/contributing.html\n",
    "\n",
    "添加一个食谱并在本地测试。\n",
    "\n",
    "第一步 - 打开 https://github.com/bioconda/bioconda-recipes 然后Fork仓库。"
   ]
  },
  {
   "cell_type": "markdown",
   "metadata": {
    "slideshow": {
     "slide_type": "subslide"
    }
   },
   "source": [
    "然后克隆你的Fork。\n",
    "\n",
    "```bash\n",
    "export MY_GIT_USERNAME=pansapiens\n",
    "git clone https://github.com/${MY_GIT_USERNAME}/bioconda-recipes.git\n",
    "cd bioconda-recipes\n",
    "```"
   ]
  },
  {
   "cell_type": "markdown",
   "metadata": {
    "slideshow": {
     "slide_type": "subslide"
    }
   },
   "source": [
    "为你的食谱创建一个新的分支。\n",
    "\n",
    "```bash\n",
    "git branch mynewtool\n",
    "git checkout mynewtool\n",
    "```\n",
    "\n",
    "编辑你的食谱。使用一个已经存在的食谱作为模板是一个很好的方式（也可以使用`conda skeleton`）。\n",
    "\n",
    "```bash\n",
    "vi recipes/mynewtool/meta.yaml\n",
    "vi recipes/mynewtool/build.sh\n",
    "\n",
    "git commit -a -m \"Added new recipe for mynewtool.\"\n",
    "```"
   ]
  },
  {
   "cell_type": "markdown",
   "metadata": {
    "slideshow": {
     "slide_type": "subslide"
    }
   },
   "source": [
    "激活TravisCI环境进行测试。\n",
    "\n",
    "```bash\n",
    "# 这个Bioconda脚本会创建一个新的Miniconda安装\n",
    "./simulate-travis.py --bootstrap /tmp/anaconda --overwrite\n",
    "\n",
    "# 构建你的食谱并运行测试\n",
    "# --packages 是可选选项，只有版本和构建改变的食谱会构建\n",
    "./simulate-travis.py --disable-docker --packages mynewtool --force\n",
    "```\n",
    "\n",
    "如果测试通过，提交commit并推送到远程分支。\n",
    "\n",
    "```bash\n",
    "git push origin\n",
    "```"
   ]
  },
  {
   "cell_type": "markdown",
   "metadata": {
    "slideshow": {
     "slide_type": "subslide"
    }
   },
   "source": [
    "* 到 https://github.com/bioconda/bioconda-recipes 创建一个合并请求。\n",
    "* TravisCI 会自动构建你的分支。\n",
    "* 如果 TravisCI 测试通过，Bioconda团队会审查你的合并请求，查看是否可以合并。\n",
    "* Bioconda主分支的食谱会自动在Linux和macOS系统上构建并上传到Anaconda的`bioconda` channel上。"
   ]
  },
  {
   "cell_type": "markdown",
   "metadata": {
    "slideshow": {
     "slide_type": "slide"
    }
   },
   "source": [
    "# 谢谢！"
   ]
  }
 ],
 "metadata": {
  "kernelspec": {
   "display_name": "Python 3",
   "language": "python",
   "name": "python3"
  },
  "language_info": {
   "codemirror_mode": {
    "name": "ipython",
    "version": 3
   },
   "file_extension": ".py",
   "mimetype": "text/x-python",
   "name": "python",
   "nbconvert_exporter": "python",
   "pygments_lexer": "ipython3",
   "version": "3.7.2"
  }
 },
 "nbformat": 4,
 "nbformat_minor": 2
}
